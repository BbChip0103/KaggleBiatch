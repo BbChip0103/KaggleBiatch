{
 "cells": [
  {
   "cell_type": "code",
   "execution_count": 1,
   "metadata": {},
   "outputs": [
    {
     "name": "stderr",
     "output_type": "stream",
     "text": [
      "/usr/local/lib/python2.7/dist-packages/sklearn/cross_validation.py:41: DeprecationWarning: This module was deprecated in version 0.18 in favor of the model_selection module into which all the refactored classes and functions are moved. Also note that the interface of the new CV iterators are different from that of this module. This module will be removed in 0.20.\n",
      "  \"This module will be removed in 0.20.\", DeprecationWarning)\n"
     ]
    }
   ],
   "source": [
    "import os, sys \n",
    "import pandas as pd\n",
    "import numpy as np\n",
    "os.chdir('../src')\n",
    "import config\n",
    "import glob\n",
    "import xgboost as xgb\n",
    "import matplotlib.pyplot as plt\n",
    "import seaborn as sns\n",
    "%matplotlib inline\n",
    "from sklearn.metrics import accuracy_score\n",
    "import joblib"
   ]
  },
  {
   "cell_type": "code",
   "execution_count": null,
   "metadata": {
    "collapsed": true
   },
   "outputs": [],
   "source": []
  },
  {
   "cell_type": "code",
   "execution_count": 17,
   "metadata": {},
   "outputs": [
    {
     "data": {
      "text/plain": [
       "0.9645417554737454"
      ]
     },
     "execution_count": 17,
     "metadata": {},
     "output_type": "execute_result"
    }
   ],
   "source": [
    "nn_folder = 'nn_18'\n",
    "\n",
    "# le = joblib.load(config.OUTPUT_FOLDER + '%s/label_encoder.dump'%nn_folder)\n",
    "\n",
    "gt_train = pd.read_csv(config.DATA_FOLDER + 'gt_train.csv')\n",
    "\n",
    "sub_train = pd.read_csv(config.OUTPUT_FOLDER + '%s/pred_train.csv'%nn_folder)\n",
    "sub_train.rename(columns = {str(i) : {v:k for k, v in config.mapping_dict.iteritems()}[i] for i in np.arange(31)}, inplace = True)\n",
    "sub_train['target'] = sub_train.drop('id', 1).idxmax(axis =1)\n",
    "sub_train.rename(columns = {'target' : 'pred_target'}, inplace = True)\n",
    "\n",
    "df = gt_train.merge(sub_train, on = 'id')\n",
    "assert len(df) == len(sub_train)\n",
    "\n",
    "accuracy_score(df['target'], df['pred_target'])"
   ]
  },
  {
   "cell_type": "code",
   "execution_count": 25,
   "metadata": {},
   "outputs": [
    {
     "data": {
      "text/plain": [
       "0.93526895503256668"
      ]
     },
     "execution_count": 25,
     "metadata": {},
     "output_type": "execute_result"
    }
   ],
   "source": [
    "nn_folder = 'blnd_4'\n",
    "blnd =  pd.read_csv(config.OUTPUT_FOLDER + '%s/pred_train.csv'%nn_folder)\n",
    "blnd.rename(columns = {'target' : 'pred_target'}, inplace = True)\n",
    "\n",
    "df = gt_train.merge(blnd, on = 'id')\n",
    "assert len(df) == len(blnd)\n",
    "\n",
    "accuracy_score(df['target'], df['pred_target'])"
   ]
  },
  {
   "cell_type": "code",
   "execution_count": 14,
   "metadata": {},
   "outputs": [
    {
     "data": {
      "text/plain": [
       "0.96795502669171807"
      ]
     },
     "execution_count": 14,
     "metadata": {},
     "output_type": "execute_result"
    }
   ],
   "source": [
    "nn_folder = 'neural_clf_0'\n",
    "nclf =  pd.read_csv(config.OUTPUT_FOLDER + '%s/pred_train.csv'%nn_folder)\n",
    "nclf['target'] = nclf.drop('id', 1).idxmax(axis = 1)\n",
    "nclf['target'] = nclf['target'].map({str(v):k for k,v in config.mapping_dict.iteritems()})\n",
    "nclf.rename(columns = {'target' : 'pred_target'}, inplace = True)\n",
    "\n",
    "df = gt_train.merge(nclf, on = 'id')\n",
    "assert len(df) == len(nclf)\n",
    "\n",
    "accuracy_score(df['target'], df['pred_target'])"
   ]
  },
  {
   "cell_type": "code",
   "execution_count": 8,
   "metadata": {},
   "outputs": [
    {
     "data": {
      "text/plain": [
       "array([  6, 120, 504])"
      ]
     },
     "execution_count": 8,
     "metadata": {},
     "output_type": "execute_result"
    }
   ],
   "source": [
    "zz = np.array([[1,2,3], [4,5,6,], [7,8,9]])\n",
    "zz.prod(axis = 1)"
   ]
  }
 ],
 "metadata": {
  "kernelspec": {
   "display_name": "Python 2",
   "language": "python",
   "name": "python2"
  },
  "language_info": {
   "codemirror_mode": {
    "name": "ipython",
    "version": 2
   },
   "file_extension": ".py",
   "mimetype": "text/x-python",
   "name": "python",
   "nbconvert_exporter": "python",
   "pygments_lexer": "ipython2",
   "version": "2.7.14"
  }
 },
 "nbformat": 4,
 "nbformat_minor": 2
}
