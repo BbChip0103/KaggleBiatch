{
 "cells": [
  {
   "cell_type": "code",
   "execution_count": 1,
   "metadata": {},
   "outputs": [
    {
     "name": "stderr",
     "output_type": "stream",
     "text": [
      "/usr/local/lib/python2.7/dist-packages/sklearn/cross_validation.py:41: DeprecationWarning: This module was deprecated in version 0.18 in favor of the model_selection module into which all the refactored classes and functions are moved. Also note that the interface of the new CV iterators are different from that of this module. This module will be removed in 0.20.\n",
      "  \"This module will be removed in 0.20.\", DeprecationWarning)\n"
     ]
    }
   ],
   "source": [
    "import os, sys \n",
    "import pandas as pd\n",
    "import numpy as np\n",
    "os.chdir('../src')\n",
    "import config\n",
    "import glob\n",
    "import xgboost as xgb\n",
    "import matplotlib.pyplot as plt\n",
    "import seaborn as sns\n",
    "%matplotlib inline\n",
    "from sklearn.metrics import accuracy_score"
   ]
  },
  {
   "cell_type": "code",
   "execution_count": 67,
   "metadata": {
    "collapsed": true
   },
   "outputs": [],
   "source": [
    "sub_train = pd.read_csv(config.OUTPUT_FOLDER + 'stacker_xgb_7/sub_test.csv')\n",
    "gt_train = pd.read_csv(config.DATA_FOLDER + 'gt_train.csv')\n",
    "sub_train.rename(columns = {'target' : 'pred_target'}, inplace = True)\n",
    "sub_train.rename(columns = {k: k + '_xgb' for k in config.mapping_dict.keys()}, inplace = True)\n",
    "\n",
    "sub_train2 = pd.read_csv(config.OUTPUT_FOLDER + 'neural_clf/pred_test.csv')\n",
    "sub_train2.rename(columns = {str(i) : {v:k for k,v in config.mapping_dict.iteritems()}[i] for i in np.arange(31)}, inplace = True)\n",
    "sub_train2['target'] = sub_train2.drop('id', 1).idxmax(axis =1)\n",
    "sub_train2.rename(columns = {'target' : 'pred_target2'}, inplace = True)\n",
    "sub_train2.rename(columns = {k: k + '_nn_clf' for k in config.mapping_dict.keys()}, inplace = True)"
   ]
  },
  {
   "cell_type": "code",
   "execution_count": 68,
   "metadata": {},
   "outputs": [],
   "source": [
    "df = sub_train.merge(sub_train2, on = 'id')\n",
    "assert len(df) == config.LEN_DFS['test']"
   ]
  },
  {
   "cell_type": "code",
   "execution_count": null,
   "metadata": {
    "collapsed": true
   },
   "outputs": [],
   "source": []
  },
  {
   "cell_type": "code",
   "execution_count": 69,
   "metadata": {},
   "outputs": [],
   "source": [
    "for c in config.mapping_dict.keys():\n",
    "    df[c] = np.sqrt(df[c + '_xgb'] * df[c + '_nn_clf'])\n",
    "df['geomean_target'] = df[config.mapping_dict.keys()].idxmax(axis = 1)"
   ]
  },
  {
   "cell_type": "code",
   "execution_count": 71,
   "metadata": {},
   "outputs": [],
   "source": [
    "df['fname'] = df['id'] + '.wav'\n",
    "df['label'] = df['geomean_target'] \n",
    "df[['fname', 'label']].to_csv('geomean_clf_nn_and_stacker_7.csv', index = False)"
   ]
  },
  {
   "cell_type": "code",
   "execution_count": 62,
   "metadata": {},
   "outputs": [
    {
     "data": {
      "text/plain": [
       "0.96659860194058989"
      ]
     },
     "execution_count": 62,
     "metadata": {},
     "output_type": "execute_result"
    }
   ],
   "source": [
    "accuracy_score(df['target'].values, df['pred_target'].values)"
   ]
  },
  {
   "cell_type": "code",
   "execution_count": 63,
   "metadata": {},
   "outputs": [
    {
     "data": {
      "text/plain": [
       "0.96661350662513223"
      ]
     },
     "execution_count": 63,
     "metadata": {},
     "output_type": "execute_result"
    }
   ],
   "source": [
    "accuracy_score(df['target'].values, df['pred_target2'].values)"
   ]
  },
  {
   "cell_type": "code",
   "execution_count": 64,
   "metadata": {},
   "outputs": [
    {
     "data": {
      "text/plain": [
       "0.96686688626235229"
      ]
     },
     "execution_count": 64,
     "metadata": {},
     "output_type": "execute_result"
    }
   ],
   "source": [
    "accuracy_score(df['target'].values, df['geomean_target'].values)"
   ]
  },
  {
   "cell_type": "code",
   "execution_count": 65,
   "metadata": {},
   "outputs": [
    {
     "data": {
      "text/plain": [
       "0.96679236283964054"
      ]
     },
     "execution_count": 65,
     "metadata": {},
     "output_type": "execute_result"
    }
   ],
   "source": [
    "accuracy_score(df['target'].values, df['mean_target'].values)"
   ]
  },
  {
   "cell_type": "code",
   "execution_count": 66,
   "metadata": {},
   "outputs": [
    {
     "data": {
      "text/plain": [
       "silence    2622\n",
       "off        2445\n",
       "on         2430\n",
       "stop       2425\n",
       "three      2402\n",
       "no         2376\n",
       "up         2367\n",
       "two        2364\n",
       "go         2362\n",
       "six        2357\n",
       "seven      2351\n",
       "one        2346\n",
       "yes        2345\n",
       "zero       2343\n",
       "right      2340\n",
       "four       2337\n",
       "nine       2333\n",
       "eight      2332\n",
       "left       2331\n",
       "five       2329\n",
       "down       2325\n",
       "dog        1746\n",
       "house      1745\n",
       "wow        1736\n",
       "happy      1735\n",
       "cat        1733\n",
       "marvin     1732\n",
       "bed        1730\n",
       "sheila     1719\n",
       "bird       1700\n",
       "tree       1655\n",
       "Name: geomean_target, dtype: int64"
      ]
     },
     "execution_count": 66,
     "metadata": {},
     "output_type": "execute_result"
    }
   ],
   "source": [
    "df['geomean_target'].value_counts()"
   ]
  }
 ],
 "metadata": {
  "kernelspec": {
   "display_name": "Python 2",
   "language": "python",
   "name": "python2"
  },
  "language_info": {
   "codemirror_mode": {
    "name": "ipython",
    "version": 2
   },
   "file_extension": ".py",
   "mimetype": "text/x-python",
   "name": "python",
   "nbconvert_exporter": "python",
   "pygments_lexer": "ipython2",
   "version": "2.7.14"
  }
 },
 "nbformat": 4,
 "nbformat_minor": 2
}
