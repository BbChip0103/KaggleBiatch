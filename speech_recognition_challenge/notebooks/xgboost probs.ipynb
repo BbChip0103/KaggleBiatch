{
 "cells": [
  {
   "cell_type": "code",
   "execution_count": 52,
   "metadata": {
    "collapsed": true
   },
   "outputs": [],
   "source": [
    "import os, sys \n",
    "import pandas as pd\n",
    "import numpy as np\n",
    "os.chdir('../src')\n",
    "import config\n",
    "import glob\n",
    "import xgboost as xgb\n",
    "import matplotlib.pyplot as plt\n",
    "import seaborn as sns\n",
    "%matplotlib inline"
   ]
  },
  {
   "cell_type": "code",
   "execution_count": 41,
   "metadata": {
    "collapsed": true
   },
   "outputs": [],
   "source": [
    "df_list = []\n",
    "for i in np.arange(5):\n",
    "    a = pd.read_csv(config.OUTPUT_FOLDER + 'stacker_xgb_4/classifier_test_predicitons_fold_%d.csv'%i)\n",
    "    df_list.append(a.drop('id', 1).values)\n",
    "    ids = a['id'].tolist()"
   ]
  },
  {
   "cell_type": "code",
   "execution_count": 123,
   "metadata": {
    "collapsed": true
   },
   "outputs": [],
   "source": [
    "df_new = sub2.merge(sub, on = 'fname')"
   ]
  },
  {
   "cell_type": "code",
   "execution_count": null,
   "metadata": {},
   "outputs": [],
   "source": [
    "sub_only_unknown = sub.copy()\n",
    "sub_only_unknown['label'] = sub_only_unknown['label'].apply(lambda x: x if x == 'unknown' else 'hui_znaet')\n",
    "= pd.read_csv(config.OUTPUT_FOLDER + 'stacker_xgb_7/submission_stacker_xgb_7.csv')"
   ]
  },
  {
   "cell_type": "code",
   "execution_count": null,
   "metadata": {
    "collapsed": true
   },
   "outputs": [],
   "source": []
  },
  {
   "cell_type": "code",
   "execution_count": 122,
   "metadata": {},
   "outputs": [],
   "source": [
    "sub2 = pd.read_csv(config.OUTPUT_FOLDER + 'stacker_xgb_4/submission_stacker_xgb_4.csv')"
   ]
  },
  {
   "cell_type": "code",
   "execution_count": 144,
   "metadata": {},
   "outputs": [],
   "source": [
    "sub = pd.read_csv(config.OUTPUT_FOLDER + 'stacker_xgb_7/submission_stacker_xgb_7.csv')"
   ]
  },
  {
   "cell_type": "code",
   "execution_count": 111,
   "metadata": {},
   "outputs": [
    {
     "data": {
      "text/plain": [
       "unknown    85471\n",
       "silence    12111\n",
       "up          7614\n",
       "on          6694\n",
       "left        6418\n",
       "no          6216\n",
       "off         6062\n",
       "go          5725\n",
       "down        5619\n",
       "right       5571\n",
       "yes         5526\n",
       "stop        5511\n",
       "Name: label, dtype: int64"
      ]
     },
     "execution_count": 111,
     "metadata": {},
     "output_type": "execute_result"
    }
   ],
   "source": [
    "sub['label'].value_counts()"
   ]
  },
  {
   "cell_type": "code",
   "execution_count": 115,
   "metadata": {},
   "outputs": [],
   "source": [
    "pred_test = pd.read_csv(config.OUTPUT_FOLDER + 'stacker_xgb_7/sub_test.csv')"
   ]
  },
  {
   "cell_type": "code",
   "execution_count": 117,
   "metadata": {},
   "outputs": [
    {
     "data": {
      "text/html": [
       "<div>\n",
       "<style>\n",
       "    .dataframe thead tr:only-child th {\n",
       "        text-align: right;\n",
       "    }\n",
       "\n",
       "    .dataframe thead th {\n",
       "        text-align: left;\n",
       "    }\n",
       "\n",
       "    .dataframe tbody tr th {\n",
       "        vertical-align: top;\n",
       "    }\n",
       "</style>\n",
       "<table border=\"1\" class=\"dataframe\">\n",
       "  <thead>\n",
       "    <tr style=\"text-align: right;\">\n",
       "      <th></th>\n",
       "      <th>id</th>\n",
       "      <th>target</th>\n",
       "      <th>bed</th>\n",
       "      <th>bird</th>\n",
       "      <th>cat</th>\n",
       "      <th>dog</th>\n",
       "      <th>down</th>\n",
       "      <th>eight</th>\n",
       "      <th>five</th>\n",
       "      <th>four</th>\n",
       "      <th>...</th>\n",
       "      <th>silence</th>\n",
       "      <th>six</th>\n",
       "      <th>stop</th>\n",
       "      <th>three</th>\n",
       "      <th>tree</th>\n",
       "      <th>two</th>\n",
       "      <th>up</th>\n",
       "      <th>wow</th>\n",
       "      <th>yes</th>\n",
       "      <th>zero</th>\n",
       "    </tr>\n",
       "  </thead>\n",
       "  <tbody>\n",
       "    <tr>\n",
       "      <th>0</th>\n",
       "      <td>clip_6816fe55f</td>\n",
       "      <td>down</td>\n",
       "      <td>0.014716</td>\n",
       "      <td>0.014735</td>\n",
       "      <td>0.014727</td>\n",
       "      <td>0.150426</td>\n",
       "      <td>0.446354</td>\n",
       "      <td>0.014718</td>\n",
       "      <td>0.014722</td>\n",
       "      <td>0.014736</td>\n",
       "      <td>...</td>\n",
       "      <td>0.014703</td>\n",
       "      <td>0.014709</td>\n",
       "      <td>0.014766</td>\n",
       "      <td>0.014729</td>\n",
       "      <td>0.014721</td>\n",
       "      <td>0.014735</td>\n",
       "      <td>0.014733</td>\n",
       "      <td>0.014714</td>\n",
       "      <td>0.014702</td>\n",
       "      <td>0.014725</td>\n",
       "    </tr>\n",
       "    <tr>\n",
       "      <th>1</th>\n",
       "      <td>clip_cd7789fb9</td>\n",
       "      <td>three</td>\n",
       "      <td>0.015790</td>\n",
       "      <td>0.015811</td>\n",
       "      <td>0.015789</td>\n",
       "      <td>0.015810</td>\n",
       "      <td>0.015810</td>\n",
       "      <td>0.015791</td>\n",
       "      <td>0.015787</td>\n",
       "      <td>0.015805</td>\n",
       "      <td>...</td>\n",
       "      <td>0.015768</td>\n",
       "      <td>0.015772</td>\n",
       "      <td>0.015787</td>\n",
       "      <td>0.485430</td>\n",
       "      <td>0.056191</td>\n",
       "      <td>0.015804</td>\n",
       "      <td>0.015787</td>\n",
       "      <td>0.015785</td>\n",
       "      <td>0.015774</td>\n",
       "      <td>0.015782</td>\n",
       "    </tr>\n",
       "    <tr>\n",
       "      <th>2</th>\n",
       "      <td>clip_a4547fe94</td>\n",
       "      <td>left</td>\n",
       "      <td>0.016015</td>\n",
       "      <td>0.016037</td>\n",
       "      <td>0.016195</td>\n",
       "      <td>0.016036</td>\n",
       "      <td>0.016036</td>\n",
       "      <td>0.016016</td>\n",
       "      <td>0.016013</td>\n",
       "      <td>0.016031</td>\n",
       "      <td>...</td>\n",
       "      <td>0.015993</td>\n",
       "      <td>0.015997</td>\n",
       "      <td>0.016013</td>\n",
       "      <td>0.016030</td>\n",
       "      <td>0.016020</td>\n",
       "      <td>0.016029</td>\n",
       "      <td>0.016014</td>\n",
       "      <td>0.016010</td>\n",
       "      <td>0.015999</td>\n",
       "      <td>0.016007</td>\n",
       "    </tr>\n",
       "    <tr>\n",
       "      <th>3</th>\n",
       "      <td>clip_b9c863951</td>\n",
       "      <td>two</td>\n",
       "      <td>0.015872</td>\n",
       "      <td>0.015893</td>\n",
       "      <td>0.015884</td>\n",
       "      <td>0.015895</td>\n",
       "      <td>0.015892</td>\n",
       "      <td>0.016028</td>\n",
       "      <td>0.015879</td>\n",
       "      <td>0.019800</td>\n",
       "      <td>...</td>\n",
       "      <td>0.015859</td>\n",
       "      <td>0.015865</td>\n",
       "      <td>0.015873</td>\n",
       "      <td>0.015900</td>\n",
       "      <td>0.015878</td>\n",
       "      <td>0.508786</td>\n",
       "      <td>0.015891</td>\n",
       "      <td>0.015870</td>\n",
       "      <td>0.015857</td>\n",
       "      <td>0.016683</td>\n",
       "    </tr>\n",
       "    <tr>\n",
       "      <th>4</th>\n",
       "      <td>clip_67636f9e4</td>\n",
       "      <td>eight</td>\n",
       "      <td>0.016023</td>\n",
       "      <td>0.016038</td>\n",
       "      <td>0.016021</td>\n",
       "      <td>0.016037</td>\n",
       "      <td>0.016037</td>\n",
       "      <td>0.519374</td>\n",
       "      <td>0.016017</td>\n",
       "      <td>0.016032</td>\n",
       "      <td>...</td>\n",
       "      <td>0.015995</td>\n",
       "      <td>0.015998</td>\n",
       "      <td>0.016014</td>\n",
       "      <td>0.016031</td>\n",
       "      <td>0.016021</td>\n",
       "      <td>0.016031</td>\n",
       "      <td>0.016029</td>\n",
       "      <td>0.016016</td>\n",
       "      <td>0.016000</td>\n",
       "      <td>0.016019</td>\n",
       "    </tr>\n",
       "  </tbody>\n",
       "</table>\n",
       "<p>5 rows × 33 columns</p>\n",
       "</div>"
      ],
      "text/plain": [
       "               id target       bed      bird       cat       dog      down  \\\n",
       "0  clip_6816fe55f   down  0.014716  0.014735  0.014727  0.150426  0.446354   \n",
       "1  clip_cd7789fb9  three  0.015790  0.015811  0.015789  0.015810  0.015810   \n",
       "2  clip_a4547fe94   left  0.016015  0.016037  0.016195  0.016036  0.016036   \n",
       "3  clip_b9c863951    two  0.015872  0.015893  0.015884  0.015895  0.015892   \n",
       "4  clip_67636f9e4  eight  0.016023  0.016038  0.016021  0.016037  0.016037   \n",
       "\n",
       "      eight      five      four    ...      silence       six      stop  \\\n",
       "0  0.014718  0.014722  0.014736    ...     0.014703  0.014709  0.014766   \n",
       "1  0.015791  0.015787  0.015805    ...     0.015768  0.015772  0.015787   \n",
       "2  0.016016  0.016013  0.016031    ...     0.015993  0.015997  0.016013   \n",
       "3  0.016028  0.015879  0.019800    ...     0.015859  0.015865  0.015873   \n",
       "4  0.519374  0.016017  0.016032    ...     0.015995  0.015998  0.016014   \n",
       "\n",
       "      three      tree       two        up       wow       yes      zero  \n",
       "0  0.014729  0.014721  0.014735  0.014733  0.014714  0.014702  0.014725  \n",
       "1  0.485430  0.056191  0.015804  0.015787  0.015785  0.015774  0.015782  \n",
       "2  0.016030  0.016020  0.016029  0.016014  0.016010  0.015999  0.016007  \n",
       "3  0.015900  0.015878  0.508786  0.015891  0.015870  0.015857  0.016683  \n",
       "4  0.016031  0.016021  0.016031  0.016029  0.016016  0.016000  0.016019  \n",
       "\n",
       "[5 rows x 33 columns]"
      ]
     },
     "execution_count": 117,
     "metadata": {},
     "output_type": "execute_result"
    }
   ],
   "source": [
    "pred_test.head()"
   ]
  },
  {
   "cell_type": "code",
   "execution_count": null,
   "metadata": {},
   "outputs": [],
   "source": []
  },
  {
   "cell_type": "code",
   "execution_count": 120,
   "metadata": {},
   "outputs": [],
   "source": [
    "\n",
    "max_prob = pred_test.drop(['id', 'target'],1).max(axis = 1)\n",
    "pred_test['max_prob'] = max_prob\n",
    "\n",
    "# df['label'] = df.apply(lambda x: x['max_label'] if x['max_prob'] > 0.049767809472994 else 'unknown', axis = 1)\n",
    "# df['label'] = df['label'].apply(lambda x: x if x in config.allowed_train_labels else 'unknown')\n",
    "# df['fname'] = ids"
   ]
  },
  {
   "cell_type": "code",
   "execution_count": 142,
   "metadata": {},
   "outputs": [
    {
     "name": "stdout",
     "output_type": "stream",
     "text": [
      "0.0546411646903\n"
     ]
    }
   ],
   "source": [
    "thres = pd.Series(pred_test['max_prob']).quantile(0.02)\n",
    "print(thres)\n",
    "pred_test['label'] = pred_test.apply(lambda x: x['target'] if x['max_prob'] > thres else 'unknown', axis = 1)\n",
    "pred_test['label'] = pred_test['label'].apply(lambda x: x if x in config.allowed_train_labels else 'unknown')\n",
    "pred_test['fname'] = pred_test['id'] + '.wav'"
   ]
  },
  {
   "cell_type": "code",
   "execution_count": 139,
   "metadata": {},
   "outputs": [
    {
     "data": {
      "text/plain": [
       "unknown    87969\n",
       "silence    11595\n",
       "up          6597\n",
       "left        6406\n",
       "no          6203\n",
       "on          5953\n",
       "off         5939\n",
       "go          5674\n",
       "down        5619\n",
       "right       5560\n",
       "yes         5522\n",
       "stop        5501\n",
       "Name: label, dtype: int64"
      ]
     },
     "execution_count": 139,
     "metadata": {},
     "output_type": "execute_result"
    }
   ],
   "source": [
    "pred_test['label'].value_counts()"
   ]
  },
  {
   "cell_type": "code",
   "execution_count": 143,
   "metadata": {
    "collapsed": true
   },
   "outputs": [],
   "source": [
    "pred_test[['fname', 'label']].to_csv(config.OUTPUT_FOLDER + 'stacker_xgb_7/submission_stacker_xgb_7_thres_002.csv', index = False)"
   ]
  },
  {
   "cell_type": "code",
   "execution_count": 137,
   "metadata": {},
   "outputs": [
    {
     "data": {
      "text/plain": [
       "unknown    85471\n",
       "silence    12111\n",
       "up          7614\n",
       "on          6694\n",
       "left        6418\n",
       "no          6216\n",
       "off         6062\n",
       "go          5725\n",
       "down        5619\n",
       "right       5571\n",
       "yes         5526\n",
       "stop        5511\n",
       "Name: label, dtype: int64"
      ]
     },
     "execution_count": 137,
     "metadata": {},
     "output_type": "execute_result"
    }
   ],
   "source": [
    "sub['label'].value_counts()"
   ]
  },
  {
   "cell_type": "code",
   "execution_count": 94,
   "metadata": {
    "collapsed": true
   },
   "outputs": [],
   "source": []
  }
 ],
 "metadata": {
  "kernelspec": {
   "display_name": "Python 2",
   "language": "python",
   "name": "python2"
  },
  "language_info": {
   "codemirror_mode": {
    "name": "ipython",
    "version": 2
   },
   "file_extension": ".py",
   "mimetype": "text/x-python",
   "name": "python",
   "nbconvert_exporter": "python",
   "pygments_lexer": "ipython2",
   "version": "2.7.14"
  }
 },
 "nbformat": 4,
 "nbformat_minor": 2
}
