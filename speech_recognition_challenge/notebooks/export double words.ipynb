{
 "cells": [
  {
   "cell_type": "code",
   "execution_count": 1,
   "metadata": {},
   "outputs": [],
   "source": [
    "from scipy.io import wavfile\n",
    "import glob\n",
    "import numpy as np\n",
    "import sys, os\n",
    "os.chdir('../src/')\n",
    "import config\n",
    "import IPython.display as ipd\n",
    "import pandas as pd\n",
    "import deepdish as dd\n",
    "import zipfile\n",
    "import os\n",
    "from tqdm import tqdm"
   ]
  },
  {
   "cell_type": "code",
   "execution_count": 2,
   "metadata": {
    "collapsed": true
   },
   "outputs": [],
   "source": [
    "paths = glob.glob(config.DATA_FOLDER + \"/custom/double_words/*.wav\")"
   ]
  },
  {
   "cell_type": "code",
   "execution_count": null,
   "metadata": {},
   "outputs": [],
   "source": []
  },
  {
   "cell_type": "code",
   "execution_count": 3,
   "metadata": {},
   "outputs": [
    {
     "name": "stderr",
     "output_type": "stream",
     "text": [
      "  0%|          | 56/331668 [00:00<09:58, 554.00it/s]"
     ]
    },
    {
     "name": "stdout",
     "output_type": "stream",
     "text": [
      "CPU times: user 4 µs, sys: 1 µs, total: 5 µs\n",
      "Wall time: 9.06 µs\n"
     ]
    },
    {
     "name": "stderr",
     "output_type": "stream",
     "text": [
      "100%|██████████| 331668/331668 [09:24<00:00, 587.18it/s]\n",
      "100%|██████████| 331668/331668 [11:57<00:00, 462.44it/s]\n"
     ]
    }
   ],
   "source": [
    "%time\n",
    "\n",
    "N = len(paths) // 2\n",
    "\n",
    "ZipFile = zipfile.ZipFile(\"/mnt/sdc1/yd/double_words_1.zip\", \"w\", allowZip64 = True )\n",
    "for p in tqdm(paths[:N]):\n",
    "    ZipFile.write(p, os.path.basename(p), compress_type=zipfile.ZIP_DEFLATED)\n",
    "ZipFile.close()\n",
    "\n",
    "ZipFile = zipfile.ZipFile(\"/mnt/sdc1/yd/double_words_2.zip\", \"w\",allowZip64 = True )\n",
    "for p in tqdm(paths[N:]):\n",
    "    ZipFile.write(p, os.path.basename(p), compress_type=zipfile.ZIP_DEFLATED)\n",
    "ZipFile.close()"
   ]
  },
  {
   "cell_type": "code",
   "execution_count": null,
   "metadata": {},
   "outputs": [],
   "source": []
  },
  {
   "cell_type": "code",
   "execution_count": null,
   "metadata": {},
   "outputs": [],
   "source": [
    "import tarfile"
   ]
  },
  {
   "cell_type": "code",
   "execution_count": null,
   "metadata": {
    "collapsed": true
   },
   "outputs": [],
   "source": [
    "dict_ = {x.split(\"/\")[-1] : wavfile.read(x)[1] for x in paths[:660]}\n"
   ]
  },
  {
   "cell_type": "code",
   "execution_count": null,
   "metadata": {},
   "outputs": [],
   "source": [
    "dd.io.save('/mnt/sdc1/yd/double_words.h5', dict_, 'bzip2')"
   ]
  },
  {
   "cell_type": "code",
   "execution_count": null,
   "metadata": {},
   "outputs": [],
   "source": [
    "np.savez('/mnt/sdc1/yd/double_words.npz',dict_, 'bzip2')"
   ]
  },
  {
   "cell_type": "code",
   "execution_count": null,
   "metadata": {},
   "outputs": [],
   "source": [
    "ipd.Audio(data = dict_['d8521ea0_down_zero.wav'], rate = 16000)"
   ]
  }
 ],
 "metadata": {
  "kernelspec": {
   "display_name": "Python 2",
   "language": "python",
   "name": "python2"
  },
  "language_info": {
   "codemirror_mode": {
    "name": "ipython",
    "version": 2
   },
   "file_extension": ".py",
   "mimetype": "text/x-python",
   "name": "python",
   "nbconvert_exporter": "python",
   "pygments_lexer": "ipython2",
   "version": "2.7.14"
  }
 },
 "nbformat": 4,
 "nbformat_minor": 2
}
