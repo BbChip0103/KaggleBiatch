{
 "cells": [
  {
   "cell_type": "code",
   "execution_count": 1,
   "metadata": {
    "collapsed": true
   },
   "outputs": [],
   "source": [
    "import os\n",
    "import pandas as pd\n",
    "import glob\n",
    "from tqdm import tqdm\n",
    "from scipy.io import wavfile\n",
    "\n",
    "from scipy import signal\n",
    "import numpy as np\n",
    "import soundfile as sf\n",
    "os.chdir('../src/')\n",
    "import config\n",
    "import matplotlib.pyplot as plt\n",
    "import matplotlib\n",
    "matplotlib.style.use('ggplot')\n",
    "import IPython.display as ipd\n",
    "from sklearn.utils import shuffle\n",
    "%matplotlib inline\n",
    "\n",
    "def plotRawWave(wav, sampleRate = 16000, figWidth=14, figHeight=4):\n",
    "    plt.figure(figsize=(figWidth, figHeight))\n",
    "    plt.plot(np.linspace(0, sampleRate/len(wav), sampleRate), wav)\n",
    "    plt.ylabel(\"Amplitude\")\n",
    "    plt.xlabel(\"Time [sec]\")\n",
    "    plt.show()  # force display while in for loop\\\n",
    "    \n",
    "    return None"
   ]
  },
  {
   "cell_type": "code",
   "execution_count": null,
   "metadata": {
    "collapsed": true
   },
   "outputs": [],
   "source": []
  },
  {
   "cell_type": "code",
   "execution_count": 2,
   "metadata": {
    "collapsed": true
   },
   "outputs": [],
   "source": [
    "class SingleDoubleWordGenerator(object):\n",
    "    def __init__(self, path1, target1, path2, target2):\n",
    "        _, self.wav_read1 = wavfile.read(path1)\n",
    "        _, self.wav_read2 = wavfile.read(path2)\n",
    "        self.target1 = target1\n",
    "        self.target2 = target2\n",
    "        \n",
    "        self.delta = 8000\n",
    "            \n",
    "    def caclulate_energy_coef(self):\n",
    "        wav1 = self.wav_read1.copy()\n",
    "        wav2 = self.wav_read2.copy()\n",
    "        wav1 = wav1.astype(float)\n",
    "        wav2 = wav2.astype(float)\n",
    "        energy1 = float(np.sqrt(wav1.dot(wav1) / float(len(self.target1))))\n",
    "        energy2 = float(np.sqrt(wav2.dot(wav2) / float(len(self.target2))))\n",
    "        return (energy2 / energy1)\n",
    "\n",
    "\n",
    "    def generate_double_word(self):\n",
    "        divider1 = np.argmax(np.abs(self.wav_read1))\n",
    "        max_vol1 = np.max(np.abs(self.wav_read1))\n",
    "\n",
    "        divider2 = np.argmax(np.abs(self.wav_read2))\n",
    "        max_vol2 = np.max(np.abs(self.wav_read2))\n",
    "\n",
    "        coef = self.caclulate_energy_coef()\n",
    "        self.wav_final = np.zeros(16000)\n",
    "\n",
    "#         print(divider1, divider2)\n",
    "        len1 = np.clip(np.abs(divider1),0,self.delta)\n",
    "        self.wav_final[self.delta-len1:self.delta] = coef * self.wav_read1[divider1 - len1 :divider1]\n",
    "\n",
    "        len2 = np.clip(np.abs(len(self.wav_read2) - divider2),0,self.delta)\n",
    "        self.wav_final[self.delta:self.delta + len2] = self.wav_read2[divider2 :divider2 + len2]\n",
    "        vol_adjust = np.mean(np.array([max_vol1, max_vol2]))\n",
    "\n",
    "        self.wav_final = vol_adjust * (self.wav_final) / np.max(np.abs(self.wav_final))\n",
    "        self.wav_final = np.asarray( self.wav_final, dtype=np.int16)\n",
    "\n",
    "\n",
    "    def visualize(self):\n",
    "        f,ax = plt.subplots(3,1,figsize = (20,12))\n",
    "        ax[0].plot(np.arange(len(self.wav_read1)), self.wav_read1)\n",
    "        ax[0].set_title(\"Original word: %s\"%self.target1)\n",
    "        ax[1].plot(np.arange(len(self.wav_read2)), self.wav_read2)\n",
    "        ax[1].set_title(\"Original word: %s\"%self.target2)\n",
    "        ax[2].plot(np.arange(len(self.wav_final)), self.wav_final)\n",
    "        ax[2].set_title(\"Double part file\")\n",
    "        \n",
    "    def __call__(self):\n",
    "        self.caclulate_energy_coef()\n",
    "        self.generate_double_word()\n",
    "        return self.wav_final"
   ]
  },
  {
   "cell_type": "code",
   "execution_count": 5,
   "metadata": {
    "collapsed": true
   },
   "outputs": [],
   "source": [
    "class DoubleWordGenerator(object):\n",
    "    def  __init__(self):\n",
    "        self.gt_train = pd.read_csv(config.DATA_FOLDER + 'gt_train.csv')\n",
    "        self.persons = (self.gt_train.groupby(['person_id'])['target'].count() > 10).index.tolist()\n",
    "        self.save_folder = config.DATA_FOLDER + 'custom/double_words/'\n",
    "    \n",
    "    def iterate_persons(self):\n",
    "        list_ = []\n",
    "        for p in tqdm(self.persons):\n",
    "            slice_df = self.gt_train[self.gt_train['person_id'] == p].copy()\n",
    "            unique_targets = slice_df['target'].unique().tolist()\n",
    "            for t in unique_targets:\n",
    "                other_targets = list(unique_targets)\n",
    "                other_targets.remove(t)\n",
    "                \n",
    "                path1 = shuffle(slice_df[slice_df['target'] == t])['path'].values[0]\n",
    "                for t2 in other_targets:\n",
    "                    if not t2.startswith(t[:1]):\n",
    "                        path2 = shuffle(slice_df[slice_df['target'] == t2])['path'].values[0]\n",
    "                        resulting_name = p + \"_\" + t + \"_\" + t2\n",
    "                        \n",
    "                        list_.append({'id' : resulting_name, 'person_id':p, 'target1':t, \n",
    "                                                  'target2':t2, 'path1': path1, 'path2' : path2})\n",
    "                        \n",
    "                        self.wav = SingleDoubleWordGenerator(path1, t, path2, t2)()\n",
    "                        wavfile.write(self.save_folder + resulting_name + '.wav' , 16000, self.wav)\n",
    "                        \n",
    "        self.df = pd.DataFrame(list_)\n",
    "        self.df.to_csv(config.DATA_FOLDER + 'custom/double_words.csv', index = False)"
   ]
  },
  {
   "cell_type": "code",
   "execution_count": 6,
   "metadata": {},
   "outputs": [
    {
     "name": "stderr",
     "output_type": "stream",
     "text": [
      "100%|██████████| 1887/1887 [16:28<00:00,  1.91it/s]\n"
     ]
    }
   ],
   "source": [
    "d = DoubleWordGenerator()\n",
    "z = d.iterate_persons()"
   ]
  },
  {
   "cell_type": "code",
   "execution_count": null,
   "metadata": {
    "collapsed": true
   },
   "outputs": [],
   "source": [
    "ipd.Audio(data = d.wav, rate = 16000)"
   ]
  },
  {
   "cell_type": "code",
   "execution_count": 15,
   "metadata": {},
   "outputs": [
    {
     "data": {
      "text/plain": [
       "359.92186652197506"
      ]
     },
     "execution_count": 15,
     "metadata": {},
     "output_type": "execute_result"
    }
   ],
   "source": [
    "d.df.groupby('person_id')['id'].count().mean()\n"
   ]
  },
  {
   "cell_type": "code",
   "execution_count": null,
   "metadata": {
    "collapsed": true
   },
   "outputs": [],
   "source": [
    "%time\n",
    "N = 29\n",
    "wav_read1, wav_read2 = read_files(N)\n",
    "d = DoubleWordGenerator(path1,target1, path2, target2)\n",
    "wav_final = d()\n",
    "d.visualize()\n",
    "ipd.Audio(data = wav_final, rate = 16000)"
   ]
  },
  {
   "cell_type": "code",
   "execution_count": null,
   "metadata": {
    "collapsed": true
   },
   "outputs": [],
   "source": [
    "sorted(config.mapping_dict.keys())"
   ]
  },
  {
   "cell_type": "code",
   "execution_count": null,
   "metadata": {
    "collapsed": true
   },
   "outputs": [],
   "source": [
    "wav_final"
   ]
  },
  {
   "cell_type": "code",
   "execution_count": null,
   "metadata": {
    "collapsed": true
   },
   "outputs": [],
   "source": [
    "\n",
    "plotRawWave(wav_list[0])\n",
    "ipd.Audio(data = np.flip(wav_list[0],0), rate = 16000)"
   ]
  },
  {
   "cell_type": "code",
   "execution_count": null,
   "metadata": {
    "collapsed": true
   },
   "outputs": [],
   "source": [
    "wav_path"
   ]
  },
  {
   "cell_type": "code",
   "execution_count": null,
   "metadata": {
    "collapsed": true
   },
   "outputs": [],
   "source": [
    "divider"
   ]
  },
  {
   "cell_type": "code",
   "execution_count": null,
   "metadata": {
    "collapsed": true
   },
   "outputs": [],
   "source": [
    "wav_list"
   ]
  },
  {
   "cell_type": "code",
   "execution_count": null,
   "metadata": {
    "collapsed": true
   },
   "outputs": [],
   "source": [
    "wav = 0.5 * wav1 + 0.5 * wav2"
   ]
  },
  {
   "cell_type": "code",
   "execution_count": null,
   "metadata": {
    "collapsed": true
   },
   "outputs": [],
   "source": [
    "wav"
   ]
  },
  {
   "cell_type": "code",
   "execution_count": null,
   "metadata": {
    "collapsed": true
   },
   "outputs": [],
   "source": [
    "ipd.Audio(data = wav2, rate = 16000)"
   ]
  },
  {
   "cell_type": "code",
   "execution_count": null,
   "metadata": {
    "collapsed": true
   },
   "outputs": [],
   "source": [
    "z = np.array([0.0839902820271, 0.150625673804, 0.116258240994, 0.117976589232, 0.193945202414])"
   ]
  },
  {
   "cell_type": "code",
   "execution_count": null,
   "metadata": {
    "collapsed": true
   },
   "outputs": [],
   "source": [
    "z.std()"
   ]
  }
 ],
 "metadata": {
  "kernelspec": {
   "display_name": "Python 2",
   "language": "python",
   "name": "python2"
  },
  "language_info": {
   "codemirror_mode": {
    "name": "ipython",
    "version": 2
   },
   "file_extension": ".py",
   "mimetype": "text/x-python",
   "name": "python",
   "nbconvert_exporter": "python",
   "pygments_lexer": "ipython2",
   "version": "2.7.14"
  }
 },
 "nbformat": 4,
 "nbformat_minor": 2
}
