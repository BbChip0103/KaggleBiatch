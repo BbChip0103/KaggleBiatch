{
 "cells": [
  {
   "cell_type": "code",
   "execution_count": 1,
   "metadata": {
    "collapsed": true
   },
   "outputs": [],
   "source": [
    "import pandas as pd\n",
    "import os\n",
    "os.chdir(\"../src\")\n",
    "import config"
   ]
  },
  {
   "cell_type": "code",
   "execution_count": 2,
   "metadata": {
    "collapsed": true
   },
   "outputs": [],
   "source": [
    "train = pd.read_csv(\"/mnt/sdc1/cloud/kaggle_output/kaggle_speech_output/stacker_xgb_37/training_dataset.csv\")\n",
    "test = pd.read_csv(\"/mnt/sdc1/cloud/kaggle_output/kaggle_speech_output/stacker_xgb_37/testing_dataset.csv\")"
   ]
  },
  {
   "cell_type": "code",
   "execution_count": 3,
   "metadata": {
    "collapsed": true
   },
   "outputs": [],
   "source": [
    "\n",
    "train['id'] = train['id'].apply(lambda x: \"_\".join(x.split(\"_\")[:-1]))\n",
    "train.drop('target', 1, inplace = True)"
   ]
  },
  {
   "cell_type": "code",
   "execution_count": 4,
   "metadata": {
    "collapsed": true
   },
   "outputs": [],
   "source": [
    "gt_test = pd.read_csv(config.DATA_FOLDER + \"gt_test.csv\")\n",
    "gt_train = pd.read_csv(config.DATA_FOLDER + \"gt_train.csv\")\n",
    "\n",
    "my_silence = [x for x in gt_train['id'].tolist() if \"silence\" in x]\n",
    "\n",
    "assert sorted(train.columns.tolist()) == sorted(train.columns.tolist())\n",
    "df = pd.concat([train, test])"
   ]
  },
  {
   "cell_type": "code",
   "execution_count": 5,
   "metadata": {},
   "outputs": [],
   "source": [
    "new_test = df[df['id'].isin(gt_test['id'].tolist())]\n",
    "new_test['id'] = new_test['id'] + \".wav\"\n",
    "assert len(new_test) == len(gt_test)\n",
    "new_train = pd.concat([train, (test[~test['id'].isin(gt_test['id'].tolist())])])\n",
    "\n",
    "new_train = new_train[~new_train['id'].isin(my_silence)]\n",
    "new_train['id'] = new_train['id'] + '.wav'"
   ]
  },
  {
   "cell_type": "code",
   "execution_count": 13,
   "metadata": {},
   "outputs": [
    {
     "data": {
      "text/html": [
       "<div>\n",
       "<style>\n",
       "    .dataframe thead tr:only-child th {\n",
       "        text-align: right;\n",
       "    }\n",
       "\n",
       "    .dataframe thead th {\n",
       "        text-align: left;\n",
       "    }\n",
       "\n",
       "    .dataframe tbody tr th {\n",
       "        vertical-align: top;\n",
       "    }\n",
       "</style>\n",
       "<table border=\"1\" class=\"dataframe\">\n",
       "  <thead>\n",
       "    <tr style=\"text-align: right;\">\n",
       "      <th></th>\n",
       "      <th>id</th>\n",
       "      <th>down_nn_15</th>\n",
       "      <th>go_nn_15</th>\n",
       "      <th>left_nn_15</th>\n",
       "      <th>no_nn_15</th>\n",
       "      <th>off_nn_15</th>\n",
       "      <th>on_nn_15</th>\n",
       "      <th>right_nn_15</th>\n",
       "      <th>silence_nn_15</th>\n",
       "      <th>stop_nn_15</th>\n",
       "      <th>...</th>\n",
       "      <th>one_nn_22</th>\n",
       "      <th>seven_nn_22</th>\n",
       "      <th>sheila_nn_22</th>\n",
       "      <th>six_nn_22</th>\n",
       "      <th>three_nn_22</th>\n",
       "      <th>tree_nn_22</th>\n",
       "      <th>two_nn_22</th>\n",
       "      <th>wow_nn_22</th>\n",
       "      <th>zero_nn_22</th>\n",
       "      <th>31_nn_22</th>\n",
       "    </tr>\n",
       "  </thead>\n",
       "  <tbody>\n",
       "    <tr>\n",
       "      <th>0</th>\n",
       "      <td>73af0c50_nohash_1.wav</td>\n",
       "      <td>2.540218e-04</td>\n",
       "      <td>9.250564e-04</td>\n",
       "      <td>1.265796e-06</td>\n",
       "      <td>4.195953e-04</td>\n",
       "      <td>9.392221e-05</td>\n",
       "      <td>6.988661e-06</td>\n",
       "      <td>8.311453e-08</td>\n",
       "      <td>1.415345e-10</td>\n",
       "      <td>5.416989e-05</td>\n",
       "      <td>...</td>\n",
       "      <td>5.420780e-07</td>\n",
       "      <td>2.637405e-09</td>\n",
       "      <td>7.408268e-08</td>\n",
       "      <td>1.267054e-11</td>\n",
       "      <td>2.258255e-11</td>\n",
       "      <td>4.250258e-11</td>\n",
       "      <td>2.080457e-10</td>\n",
       "      <td>0.999929</td>\n",
       "      <td>2.674356e-07</td>\n",
       "      <td>0.000092</td>\n",
       "    </tr>\n",
       "    <tr>\n",
       "      <th>1</th>\n",
       "      <td>187af8be_nohash_1.wav</td>\n",
       "      <td>8.501205e-08</td>\n",
       "      <td>5.714552e-08</td>\n",
       "      <td>4.094809e-06</td>\n",
       "      <td>5.453046e-06</td>\n",
       "      <td>1.480768e-09</td>\n",
       "      <td>8.988639e-12</td>\n",
       "      <td>1.633739e-09</td>\n",
       "      <td>2.479992e-19</td>\n",
       "      <td>1.219248e-09</td>\n",
       "      <td>...</td>\n",
       "      <td>6.447118e-08</td>\n",
       "      <td>7.950130e-09</td>\n",
       "      <td>3.865552e-08</td>\n",
       "      <td>5.769506e-10</td>\n",
       "      <td>2.894380e-11</td>\n",
       "      <td>6.054408e-11</td>\n",
       "      <td>3.712844e-10</td>\n",
       "      <td>0.999901</td>\n",
       "      <td>5.199813e-07</td>\n",
       "      <td>0.000243</td>\n",
       "    </tr>\n",
       "    <tr>\n",
       "      <th>2</th>\n",
       "      <td>c4533c47_nohash_1.wav</td>\n",
       "      <td>9.640893e-08</td>\n",
       "      <td>1.921576e-08</td>\n",
       "      <td>8.516547e-05</td>\n",
       "      <td>1.127855e-07</td>\n",
       "      <td>8.193920e-06</td>\n",
       "      <td>5.052445e-07</td>\n",
       "      <td>1.289816e-06</td>\n",
       "      <td>6.199264e-13</td>\n",
       "      <td>3.562602e-06</td>\n",
       "      <td>...</td>\n",
       "      <td>2.284226e-06</td>\n",
       "      <td>8.466028e-09</td>\n",
       "      <td>4.348025e-06</td>\n",
       "      <td>1.536288e-09</td>\n",
       "      <td>3.728550e-09</td>\n",
       "      <td>3.192033e-09</td>\n",
       "      <td>1.328743e-08</td>\n",
       "      <td>0.999096</td>\n",
       "      <td>3.583510e-07</td>\n",
       "      <td>0.000779</td>\n",
       "    </tr>\n",
       "    <tr>\n",
       "      <th>3</th>\n",
       "      <td>e57abea3_nohash_1.wav</td>\n",
       "      <td>7.581752e-04</td>\n",
       "      <td>3.803048e-03</td>\n",
       "      <td>6.511468e-08</td>\n",
       "      <td>3.001661e-02</td>\n",
       "      <td>1.801093e-04</td>\n",
       "      <td>4.676463e-06</td>\n",
       "      <td>1.351668e-08</td>\n",
       "      <td>9.089170e-13</td>\n",
       "      <td>1.878785e-06</td>\n",
       "      <td>...</td>\n",
       "      <td>1.697883e-07</td>\n",
       "      <td>2.122332e-07</td>\n",
       "      <td>1.108146e-07</td>\n",
       "      <td>3.831851e-09</td>\n",
       "      <td>2.227744e-09</td>\n",
       "      <td>2.212085e-10</td>\n",
       "      <td>1.706860e-04</td>\n",
       "      <td>0.973672</td>\n",
       "      <td>2.098166e-05</td>\n",
       "      <td>0.000624</td>\n",
       "    </tr>\n",
       "    <tr>\n",
       "      <th>4</th>\n",
       "      <td>baeac2ba_nohash_0.wav</td>\n",
       "      <td>2.288046e-11</td>\n",
       "      <td>7.883971e-12</td>\n",
       "      <td>2.853970e-09</td>\n",
       "      <td>3.442364e-09</td>\n",
       "      <td>5.386221e-12</td>\n",
       "      <td>4.750989e-14</td>\n",
       "      <td>3.289551e-10</td>\n",
       "      <td>8.973019e-22</td>\n",
       "      <td>2.251703e-12</td>\n",
       "      <td>...</td>\n",
       "      <td>1.507530e-08</td>\n",
       "      <td>4.974531e-13</td>\n",
       "      <td>3.489697e-11</td>\n",
       "      <td>2.383442e-15</td>\n",
       "      <td>2.680515e-15</td>\n",
       "      <td>5.804243e-13</td>\n",
       "      <td>2.183364e-14</td>\n",
       "      <td>0.999939</td>\n",
       "      <td>4.793245e-11</td>\n",
       "      <td>0.000099</td>\n",
       "    </tr>\n",
       "  </tbody>\n",
       "</table>\n",
       "<p>5 rows × 222 columns</p>\n",
       "</div>"
      ],
      "text/plain": [
       "                      id    down_nn_15      go_nn_15    left_nn_15  \\\n",
       "0  73af0c50_nohash_1.wav  2.540218e-04  9.250564e-04  1.265796e-06   \n",
       "1  187af8be_nohash_1.wav  8.501205e-08  5.714552e-08  4.094809e-06   \n",
       "2  c4533c47_nohash_1.wav  9.640893e-08  1.921576e-08  8.516547e-05   \n",
       "3  e57abea3_nohash_1.wav  7.581752e-04  3.803048e-03  6.511468e-08   \n",
       "4  baeac2ba_nohash_0.wav  2.288046e-11  7.883971e-12  2.853970e-09   \n",
       "\n",
       "       no_nn_15     off_nn_15      on_nn_15   right_nn_15  silence_nn_15  \\\n",
       "0  4.195953e-04  9.392221e-05  6.988661e-06  8.311453e-08   1.415345e-10   \n",
       "1  5.453046e-06  1.480768e-09  8.988639e-12  1.633739e-09   2.479992e-19   \n",
       "2  1.127855e-07  8.193920e-06  5.052445e-07  1.289816e-06   6.199264e-13   \n",
       "3  3.001661e-02  1.801093e-04  4.676463e-06  1.351668e-08   9.089170e-13   \n",
       "4  3.442364e-09  5.386221e-12  4.750989e-14  3.289551e-10   8.973019e-22   \n",
       "\n",
       "     stop_nn_15    ...        one_nn_22   seven_nn_22  sheila_nn_22  \\\n",
       "0  5.416989e-05    ...     5.420780e-07  2.637405e-09  7.408268e-08   \n",
       "1  1.219248e-09    ...     6.447118e-08  7.950130e-09  3.865552e-08   \n",
       "2  3.562602e-06    ...     2.284226e-06  8.466028e-09  4.348025e-06   \n",
       "3  1.878785e-06    ...     1.697883e-07  2.122332e-07  1.108146e-07   \n",
       "4  2.251703e-12    ...     1.507530e-08  4.974531e-13  3.489697e-11   \n",
       "\n",
       "      six_nn_22   three_nn_22    tree_nn_22     two_nn_22  wow_nn_22  \\\n",
       "0  1.267054e-11  2.258255e-11  4.250258e-11  2.080457e-10   0.999929   \n",
       "1  5.769506e-10  2.894380e-11  6.054408e-11  3.712844e-10   0.999901   \n",
       "2  1.536288e-09  3.728550e-09  3.192033e-09  1.328743e-08   0.999096   \n",
       "3  3.831851e-09  2.227744e-09  2.212085e-10  1.706860e-04   0.973672   \n",
       "4  2.383442e-15  2.680515e-15  5.804243e-13  2.183364e-14   0.999939   \n",
       "\n",
       "     zero_nn_22  31_nn_22  \n",
       "0  2.674356e-07  0.000092  \n",
       "1  5.199813e-07  0.000243  \n",
       "2  3.583510e-07  0.000779  \n",
       "3  2.098166e-05  0.000624  \n",
       "4  4.793245e-11  0.000099  \n",
       "\n",
       "[5 rows x 222 columns]"
      ]
     },
     "execution_count": 13,
     "metadata": {},
     "output_type": "execute_result"
    }
   ],
   "source": [
    "new_train.head()"
   ]
  },
  {
   "cell_type": "code",
   "execution_count": null,
   "metadata": {},
   "outputs": [],
   "source": []
  },
  {
   "cell_type": "code",
   "execution_count": 14,
   "metadata": {},
   "outputs": [],
   "source": [
    "new_train.to_csv(\"/mnt/sdc1/cloud/kaggle_output/kaggle_speech_output/stacker_xgb_37/train.csv\")\n",
    "new_test.to_csv(\"/mnt/sdc1/cloud/kaggle_output/kaggle_speech_output/stacker_xgb_37/test.csv\")"
   ]
  },
  {
   "cell_type": "code",
   "execution_count": null,
   "metadata": {
    "collapsed": true
   },
   "outputs": [],
   "source": []
  },
  {
   "cell_type": "code",
   "execution_count": 7,
   "metadata": {},
   "outputs": [],
   "source": [
    "import numpy as np"
   ]
  },
  {
   "cell_type": "code",
   "execution_count": 8,
   "metadata": {
    "collapsed": true
   },
   "outputs": [],
   "source": [
    "zzzz = np.load('/home/tony/Downloads/submit53_train.npy')"
   ]
  },
  {
   "cell_type": "code",
   "execution_count": 9,
   "metadata": {},
   "outputs": [
    {
     "data": {
      "text/plain": [
       "(29450, 12)"
      ]
     },
     "execution_count": 9,
     "metadata": {},
     "output_type": "execute_result"
    }
   ],
   "source": [
    "zzzz.shape"
   ]
  }
 ],
 "metadata": {
  "kernelspec": {
   "display_name": "Python 2",
   "language": "python",
   "name": "python2"
  },
  "language_info": {
   "codemirror_mode": {
    "name": "ipython",
    "version": 2
   },
   "file_extension": ".py",
   "mimetype": "text/x-python",
   "name": "python",
   "nbconvert_exporter": "python",
   "pygments_lexer": "ipython2",
   "version": "2.7.14"
  }
 },
 "nbformat": 4,
 "nbformat_minor": 2
}
