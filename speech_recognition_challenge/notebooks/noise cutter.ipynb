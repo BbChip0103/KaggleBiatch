{
 "cells": [
  {
   "cell_type": "code",
   "execution_count": 2,
   "metadata": {
    "collapsed": true
   },
   "outputs": [],
   "source": [
    "import os\n",
    "import pandas as pd\n",
    "import glob\n",
    "from tqdm import tqdm\n",
    "from scipy.io import wavfile\n",
    "\n",
    "from scipy import signal\n",
    "import numpy as np\n",
    "import soundfile as sf\n",
    "os.chdir('../src/')\n",
    "import config\n",
    "import matplotlib.pyplot as plt"
   ]
  },
  {
   "cell_type": "code",
   "execution_count": 3,
   "metadata": {
    "collapsed": true
   },
   "outputs": [],
   "source": [
    "all_train_files = glob.glob(config.DATA_FOLDER + 'train/audio/*/*wav')\n",
    "all_test_files = glob.glob(config.DATA_FOLDER + 'test/audio/*wav')"
   ]
  },
  {
   "cell_type": "code",
   "execution_count": 7,
   "metadata": {},
   "outputs": [
    {
     "name": "stderr",
     "output_type": "stream",
     "text": [
      "100%|██████████| 64727/64727 [00:00<00:00, 628668.23it/s]\n"
     ]
    }
   ],
   "source": [
    "all_files_list = []\n",
    "for file_name in tqdm(all_train_files):\n",
    "    dict_ = {'label' : file_name.split('/')[-2],\n",
    "     'relative_path' : file_name.split('/')[-1],\n",
    "     'full_path' : file_name}\n",
    "    all_files_list.append(dict_)\n",
    "df = pd.DataFrame(all_files_list)\n",
    "df = df[df['label'] == '_background_noise_']\n",
    "\n"
   ]
  },
  {
   "cell_type": "code",
   "execution_count": null,
   "metadata": {
    "collapsed": true
   },
   "outputs": [],
   "source": [
    "silence"
   ]
  },
  {
   "cell_type": "code",
   "execution_count": 26,
   "metadata": {},
   "outputs": [],
   "source": [
    "len_dict = {}\n",
    "all_sum = 0\n",
    "for i in np.arange(len(df)):\n",
    "    path = df.iloc[i]['full_path']\n",
    "    sr, wav = wavfile.read(path)\n",
    "    len_dict[path] = len(wav)\n",
    "    all_sum += len(wav)\n",
    "    \n",
    "len_dict = {k : int(v / float(all_sum) * 2375) for k,v in len_dict.iteritems()}\n",
    "# bg_slice = bg_wav[start_ : start_+16000]"
   ]
  },
  {
   "cell_type": "code",
   "execution_count": 49,
   "metadata": {},
   "outputs": [
    {
     "name": "stderr",
     "output_type": "stream",
     "text": [
      "100%|██████████| 367/367 [00:00<00:00, 11500.77it/s]\n",
      "100%|██████████| 363/363 [00:00<00:00, 15160.44it/s]\n",
      "100%|██████████| 364/364 [00:00<00:00, 14326.31it/s]\n",
      "100%|██████████| 566/566 [00:00<00:00, 14681.81it/s]\n",
      "100%|██████████| 356/356 [00:00<00:00, 12457.12it/s]\n",
      "100%|██████████| 356/356 [00:00<00:00, 14308.72it/s]"
     ]
    },
    {
     "name": "stdout",
     "output_type": "stream",
     "text": [
      "dude_miaowing\n",
      "running_tap\n",
      "exercise_bike\n",
      "doing_the_dishes\n",
      "pink_noise\n",
      "white_noise\n"
     ]
    },
    {
     "name": "stderr",
     "output_type": "stream",
     "text": [
      "\n"
     ]
    }
   ],
   "source": [
    "counter = 0\n",
    "for k,v in len_dict.iteritems():\n",
    "    sr, wav = wavfile.read(k)\n",
    "    delta = len(wav) / v\n",
    "#     print(delta)\n",
    "    person = k.split('/')[-1].split('.')[0]\n",
    "    print(person)\n",
    "    for j in tqdm(np.arange(v)):\n",
    "        limits = [delta* j, (delta ) * (j) + 16000]\n",
    "        if j >= v - 1:\n",
    "            limits = [len(wav) - 16000, len(wav)]\n",
    "        wav_new = wav[limits[0]:limits[1]]\n",
    "        \n",
    "        wavfile.write(config.DATA_FOLDER + 'train/audio/silence/%s_%d.wav'%(person, j), 16000, wav_new)\n",
    "        \n",
    "#         print(len(wav_new))\n",
    "        counter +=1"
   ]
  },
  {
   "cell_type": "code",
   "execution_count": 50,
   "metadata": {},
   "outputs": [],
   "source": [
    "sr, wav = wavfile.read(config.DATA_FOLDER + 'train/audio/silence/%s_%d.wav'%(person, j))"
   ]
  },
  {
   "cell_type": "code",
   "execution_count": 51,
   "metadata": {},
   "outputs": [
    {
     "data": {
      "text/plain": [
       "16000"
      ]
     },
     "execution_count": 51,
     "metadata": {},
     "output_type": "execute_result"
    }
   ],
   "source": [
    "len(wav)"
   ]
  }
 ],
 "metadata": {
  "kernelspec": {
   "display_name": "Python 2",
   "language": "python",
   "name": "python2"
  },
  "language_info": {
   "codemirror_mode": {
    "name": "ipython",
    "version": 2
   },
   "file_extension": ".py",
   "mimetype": "text/x-python",
   "name": "python",
   "nbconvert_exporter": "python",
   "pygments_lexer": "ipython2",
   "version": "2.7.14"
  }
 },
 "nbformat": 4,
 "nbformat_minor": 2
}
