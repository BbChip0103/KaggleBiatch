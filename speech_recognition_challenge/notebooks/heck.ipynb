{
 "cells": [
  {
   "cell_type": "code",
   "execution_count": 3,
   "metadata": {
    "collapsed": true
   },
   "outputs": [],
   "source": [
    "import pandas as pd"
   ]
  },
  {
   "cell_type": "code",
   "execution_count": 4,
   "metadata": {},
   "outputs": [],
   "source": [
    "silence = pd.read_csv('/mnt/sdc1/cloud/kaggle_output/kaggle_speech_output/custom_silence_stacker_12/silence_prediction_merge_like_xgb_12.csv')"
   ]
  },
  {
   "cell_type": "code",
   "execution_count": 5,
   "metadata": {},
   "outputs": [],
   "source": [
    "testing_dataset = pd.read_csv('/mnt/sdc1/cloud/kaggle_output/kaggle_speech_output/custom_silence_stacker_12/testing_dataset.csv')"
   ]
  },
  {
   "cell_type": "code",
   "execution_count": 6,
   "metadata": {},
   "outputs": [],
   "source": [
    "silence.rename(columns = {c : str.replace(c, 'custom_predictions', 'nn') for c in silence.columns.tolist()}, inplace = True)\n",
    "silence['id'] = silence['id'].apply(lambda x: x.split('.')[0])"
   ]
  },
  {
   "cell_type": "code",
   "execution_count": 8,
   "metadata": {
    "collapsed": true
   },
   "outputs": [],
   "source": [
    "old_test = pd.concat([silence, testing_dataset])"
   ]
  },
  {
   "cell_type": "code",
   "execution_count": 9,
   "metadata": {},
   "outputs": [
    {
     "name": "stdout",
     "output_type": "stream",
     "text": [
      "<class 'pandas.core.frame.DataFrame'>\n",
      "Int64Index: 164538 entries, 0 to 158537\n",
      "Columns: 311 entries, id to zero_nn_11\n",
      "dtypes: float64(310), object(1)\n",
      "memory usage: 391.7+ MB\n"
     ]
    }
   ],
   "source": [
    "old_test.info()"
   ]
  },
  {
   "cell_type": "code",
   "execution_count": 10,
   "metadata": {},
   "outputs": [],
   "source": [
    "new_test = pd.read_csv('/mnt/sdc1/cloud/kaggle_output/kaggle_speech_output/stacker_xgb_26/testing_dataset.csv')"
   ]
  },
  {
   "cell_type": "code",
   "execution_count": 13,
   "metadata": {
    "collapsed": true
   },
   "outputs": [],
   "source": [
    "old_train = pd.read_csv('/mnt/sdc1/cloud/kaggle_output/kaggle_speech_output/custom_silence_stacker_12/training_dataset.csv')\n",
    "new_train = pd.read_csv('/mnt/sdc1/cloud/kaggle_output/kaggle_speech_output/stacker_xgb_26/training_dataset.csv')"
   ]
  },
  {
   "cell_type": "code",
   "execution_count": 18,
   "metadata": {
    "collapsed": true
   },
   "outputs": [],
   "source": [
    "final_train = old_train.drop('target', 1).merge(new_train.drop('target', 1), on = 'id')\n",
    "assert len(old_train) == len(final_train)"
   ]
  },
  {
   "cell_type": "code",
   "execution_count": 11,
   "metadata": {},
   "outputs": [],
   "source": [
    "final_test = old_test.merge(new_test, on = 'id')\n",
    "assert len(final_test) == len(old_test)"
   ]
  },
  {
   "cell_type": "code",
   "execution_count": 12,
   "metadata": {},
   "outputs": [],
   "source": [
    "final_test.to_csv(\"test.csv\", index = False)"
   ]
  },
  {
   "cell_type": "code",
   "execution_count": 19,
   "metadata": {
    "collapsed": true
   },
   "outputs": [],
   "source": [
    "final_train.to_csv(\"train.csv\", index = False)"
   ]
  },
  {
   "cell_type": "code",
   "execution_count": 21,
   "metadata": {},
   "outputs": [
    {
     "name": "stdout",
     "output_type": "stream",
     "text": [
      "<class 'pandas.core.frame.DataFrame'>\n",
      "Int64Index: 67093 entries, 0 to 67092\n",
      "Columns: 404 entries, id to zero_nn_14\n",
      "dtypes: float64(403), object(1)\n",
      "memory usage: 207.3+ MB\n"
     ]
    }
   ],
   "source": [
    "final_train.info()"
   ]
  },
  {
   "cell_type": "code",
   "execution_count": 22,
   "metadata": {
    "collapsed": true
   },
   "outputs": [],
   "source": [
    "assert sorted(final_train.columns.tolist()) == sorted(final_test.columns.tolist())"
   ]
  }
 ],
 "metadata": {
  "kernelspec": {
   "display_name": "Python 2",
   "language": "python",
   "name": "python2"
  }
 },
 "nbformat": 4,
 "nbformat_minor": 2
}
