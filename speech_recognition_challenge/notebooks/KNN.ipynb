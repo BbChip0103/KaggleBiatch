{
 "cells": [
  {
   "cell_type": "code",
   "execution_count": 1,
   "metadata": {},
   "outputs": [
    {
     "name": "stderr",
     "output_type": "stream",
     "text": [
      "/usr/local/lib/python2.7/dist-packages/sklearn/cross_validation.py:41: DeprecationWarning: This module was deprecated in version 0.18 in favor of the model_selection module into which all the refactored classes and functions are moved. Also note that the interface of the new CV iterators are different from that of this module. This module will be removed in 0.20.\n",
      "  \"This module will be removed in 0.20.\", DeprecationWarning)\n"
     ]
    }
   ],
   "source": [
    "import os, sys \n",
    "import pandas as pd\n",
    "import numpy as np\n",
    "os.chdir('../src')\n",
    "import config\n",
    "import glob\n",
    "import xgboost as xgb\n",
    "import matplotlib.pyplot as plt\n",
    "import seaborn as sns\n",
    "%matplotlib inline\n",
    "from sklearn.metrics import accuracy_score\n",
    "import joblib\n",
    "from utils import utils\n",
    "from tqdm import tqdm"
   ]
  },
  {
   "cell_type": "code",
   "execution_count": 24,
   "metadata": {},
   "outputs": [],
   "source": [
    "nn_folder = 'stacker_xgb_8'\n",
    "\n",
    "\n",
    "gt_train = pd.read_csv(config.DATA_FOLDER + 'gt_train.csv')\n",
    "\n",
    "sub_train = pd.read_csv(config.OUTPUT_FOLDER + '%s/training_dataset.csv'%nn_folder)\n",
    "sub_train = sub_train.drop('target', 1 ).merge(gt_train[['id', 'target']], on = 'id')\n",
    "assert len(gt_train) == len(sub_train)"
   ]
  },
  {
   "cell_type": "code",
   "execution_count": 21,
   "metadata": {},
   "outputs": [],
   "source": [
    "splits = {}\n",
    "for i in np.arange(5):\n",
    "    splits[i] = {}\n",
    "    for c in ['train', 'val']:\n",
    "        splits[i][c] = utils.read_list_from_file(config.OUTPUT_FOLDER + 'nn_8' + '/splits/%s_%d.txt'%(c, i))"
   ]
  },
  {
   "cell_type": "code",
   "execution_count": 13,
   "metadata": {},
   "outputs": [
    {
     "data": {
      "text/plain": [
       "KNeighborsClassifier(algorithm='auto', leaf_size=30, metric='minkowski',\n",
       "           metric_params=None, n_jobs=4, n_neighbors=5, p=2,\n",
       "           weights='uniform')"
      ]
     },
     "execution_count": 13,
     "metadata": {},
     "output_type": "execute_result"
    }
   ],
   "source": [
    "from sklearn.neighbors import KNeighborsClassifier\n",
    "kn = KNeighborsClassifier(n_jobs=4)\n"
   ]
  },
  {
   "cell_type": "code",
   "execution_count": 31,
   "metadata": {
    "collapsed": true
   },
   "outputs": [],
   "source": [
    "sub_train['pred'] = np.nan"
   ]
  },
  {
   "cell_type": "code",
   "execution_count": 43,
   "metadata": {},
   "outputs": [
    {
     "data": {
      "text/plain": [
       "KNeighborsClassifier(algorithm='auto', leaf_size=30, metric='minkowski',\n",
       "           metric_params=None, n_jobs=4, n_neighbors=5, p=2,\n",
       "           weights='uniform')"
      ]
     },
     "execution_count": 43,
     "metadata": {},
     "output_type": "execute_result"
    }
   ],
   "source": [
    "kn.fit(sub_train[sub_train['id'].isin(splits[4]['train'])].drop(['id', 'target', 'pred'], 1).values, \n",
    "       sub_train[sub_train['id'].isin(splits[4]['train'])]['target'].values)"
   ]
  },
  {
   "cell_type": "code",
   "execution_count": 44,
   "metadata": {},
   "outputs": [],
   "source": [
    "sub_train.loc[sub_train['id'].isin(splits[4]['val']), 'pred'] = \\\n",
    "        kn.predict(sub_train[sub_train['id'].isin(splits[4]['val'])].drop(['id', 'target', 'pred'], 1).values)"
   ]
  },
  {
   "cell_type": "code",
   "execution_count": 35,
   "metadata": {},
   "outputs": [
    {
     "data": {
      "text/html": [
       "<div>\n",
       "<style>\n",
       "    .dataframe thead tr:only-child th {\n",
       "        text-align: right;\n",
       "    }\n",
       "\n",
       "    .dataframe thead th {\n",
       "        text-align: left;\n",
       "    }\n",
       "\n",
       "    .dataframe tbody tr th {\n",
       "        vertical-align: top;\n",
       "    }\n",
       "</style>\n",
       "<table border=\"1\" class=\"dataframe\">\n",
       "  <thead>\n",
       "    <tr style=\"text-align: right;\">\n",
       "      <th></th>\n",
       "      <th>id</th>\n",
       "      <th>bed_nn_0</th>\n",
       "      <th>bird_nn_0</th>\n",
       "      <th>cat_nn_0</th>\n",
       "      <th>dog_nn_0</th>\n",
       "      <th>down_nn_0</th>\n",
       "      <th>eight_nn_0</th>\n",
       "      <th>five_nn_0</th>\n",
       "      <th>four_nn_0</th>\n",
       "      <th>go_nn_0</th>\n",
       "      <th>...</th>\n",
       "      <th>stop_nn_8</th>\n",
       "      <th>three_nn_8</th>\n",
       "      <th>tree_nn_8</th>\n",
       "      <th>two_nn_8</th>\n",
       "      <th>up_nn_8</th>\n",
       "      <th>wow_nn_8</th>\n",
       "      <th>yes_nn_8</th>\n",
       "      <th>zero_nn_8</th>\n",
       "      <th>target</th>\n",
       "      <th>pred</th>\n",
       "    </tr>\n",
       "  </thead>\n",
       "  <tbody>\n",
       "    <tr>\n",
       "      <th>0</th>\n",
       "      <td>73af0c50_nohash_1_wow</td>\n",
       "      <td>1.352355e-06</td>\n",
       "      <td>6.142738e-07</td>\n",
       "      <td>1.147357e-07</td>\n",
       "      <td>0.000017</td>\n",
       "      <td>0.000267</td>\n",
       "      <td>1.399819e-08</td>\n",
       "      <td>0.000220</td>\n",
       "      <td>4.493637e-07</td>\n",
       "      <td>2.473998e-06</td>\n",
       "      <td>...</td>\n",
       "      <td>6.349922e-13</td>\n",
       "      <td>1.128661e-15</td>\n",
       "      <td>2.002880e-17</td>\n",
       "      <td>1.062139e-18</td>\n",
       "      <td>1.435348e-16</td>\n",
       "      <td>1.000000</td>\n",
       "      <td>2.870726e-16</td>\n",
       "      <td>4.077335e-12</td>\n",
       "      <td>28</td>\n",
       "      <td>28.0</td>\n",
       "    </tr>\n",
       "    <tr>\n",
       "      <th>1</th>\n",
       "      <td>187af8be_nohash_1_wow</td>\n",
       "      <td>8.155957e-05</td>\n",
       "      <td>3.822336e-06</td>\n",
       "      <td>2.571743e-06</td>\n",
       "      <td>0.000027</td>\n",
       "      <td>0.004799</td>\n",
       "      <td>2.005677e-07</td>\n",
       "      <td>0.000063</td>\n",
       "      <td>7.198362e-07</td>\n",
       "      <td>9.564436e-06</td>\n",
       "      <td>...</td>\n",
       "      <td>4.266974e-14</td>\n",
       "      <td>2.129133e-14</td>\n",
       "      <td>2.094194e-16</td>\n",
       "      <td>3.176394e-16</td>\n",
       "      <td>1.036997e-14</td>\n",
       "      <td>1.000000</td>\n",
       "      <td>3.887505e-15</td>\n",
       "      <td>6.675937e-12</td>\n",
       "      <td>28</td>\n",
       "      <td>28.0</td>\n",
       "    </tr>\n",
       "    <tr>\n",
       "      <th>2</th>\n",
       "      <td>c4533c47_nohash_1_wow</td>\n",
       "      <td>6.834891e-04</td>\n",
       "      <td>6.708858e-04</td>\n",
       "      <td>9.198749e-04</td>\n",
       "      <td>0.000299</td>\n",
       "      <td>0.000051</td>\n",
       "      <td>2.827419e-07</td>\n",
       "      <td>0.009776</td>\n",
       "      <td>5.383029e-05</td>\n",
       "      <td>8.697864e-07</td>\n",
       "      <td>...</td>\n",
       "      <td>4.788514e-07</td>\n",
       "      <td>1.481267e-12</td>\n",
       "      <td>6.625461e-14</td>\n",
       "      <td>8.544924e-14</td>\n",
       "      <td>6.501644e-09</td>\n",
       "      <td>0.999996</td>\n",
       "      <td>2.493418e-12</td>\n",
       "      <td>1.314932e-11</td>\n",
       "      <td>28</td>\n",
       "      <td>28.0</td>\n",
       "    </tr>\n",
       "    <tr>\n",
       "      <th>3</th>\n",
       "      <td>e57abea3_nohash_1_wow</td>\n",
       "      <td>1.370039e-06</td>\n",
       "      <td>1.721607e-06</td>\n",
       "      <td>9.491356e-07</td>\n",
       "      <td>0.000052</td>\n",
       "      <td>0.000460</td>\n",
       "      <td>5.194552e-08</td>\n",
       "      <td>0.000024</td>\n",
       "      <td>9.964987e-06</td>\n",
       "      <td>7.036098e-06</td>\n",
       "      <td>...</td>\n",
       "      <td>2.822602e-08</td>\n",
       "      <td>2.268823e-11</td>\n",
       "      <td>1.366700e-12</td>\n",
       "      <td>2.792973e-04</td>\n",
       "      <td>2.988625e-08</td>\n",
       "      <td>0.823557</td>\n",
       "      <td>3.043415e-09</td>\n",
       "      <td>1.209685e-07</td>\n",
       "      <td>28</td>\n",
       "      <td>28.0</td>\n",
       "    </tr>\n",
       "    <tr>\n",
       "      <th>4</th>\n",
       "      <td>baeac2ba_nohash_0_wow</td>\n",
       "      <td>4.550351e-07</td>\n",
       "      <td>1.435784e-07</td>\n",
       "      <td>1.666417e-07</td>\n",
       "      <td>0.000002</td>\n",
       "      <td>0.000057</td>\n",
       "      <td>2.337724e-09</td>\n",
       "      <td>0.000010</td>\n",
       "      <td>3.290563e-07</td>\n",
       "      <td>9.300914e-08</td>\n",
       "      <td>...</td>\n",
       "      <td>7.716369e-14</td>\n",
       "      <td>1.012390e-18</td>\n",
       "      <td>1.372269e-20</td>\n",
       "      <td>7.831374e-23</td>\n",
       "      <td>2.533955e-19</td>\n",
       "      <td>1.000000</td>\n",
       "      <td>5.542709e-16</td>\n",
       "      <td>2.603689e-16</td>\n",
       "      <td>28</td>\n",
       "      <td>28.0</td>\n",
       "    </tr>\n",
       "  </tbody>\n",
       "</table>\n",
       "<p>5 rows × 251 columns</p>\n",
       "</div>"
      ],
      "text/plain": [
       "                      id      bed_nn_0     bird_nn_0      cat_nn_0  dog_nn_0  \\\n",
       "0  73af0c50_nohash_1_wow  1.352355e-06  6.142738e-07  1.147357e-07  0.000017   \n",
       "1  187af8be_nohash_1_wow  8.155957e-05  3.822336e-06  2.571743e-06  0.000027   \n",
       "2  c4533c47_nohash_1_wow  6.834891e-04  6.708858e-04  9.198749e-04  0.000299   \n",
       "3  e57abea3_nohash_1_wow  1.370039e-06  1.721607e-06  9.491356e-07  0.000052   \n",
       "4  baeac2ba_nohash_0_wow  4.550351e-07  1.435784e-07  1.666417e-07  0.000002   \n",
       "\n",
       "   down_nn_0    eight_nn_0  five_nn_0     four_nn_0       go_nn_0  ...   \\\n",
       "0   0.000267  1.399819e-08   0.000220  4.493637e-07  2.473998e-06  ...    \n",
       "1   0.004799  2.005677e-07   0.000063  7.198362e-07  9.564436e-06  ...    \n",
       "2   0.000051  2.827419e-07   0.009776  5.383029e-05  8.697864e-07  ...    \n",
       "3   0.000460  5.194552e-08   0.000024  9.964987e-06  7.036098e-06  ...    \n",
       "4   0.000057  2.337724e-09   0.000010  3.290563e-07  9.300914e-08  ...    \n",
       "\n",
       "      stop_nn_8    three_nn_8     tree_nn_8      two_nn_8       up_nn_8  \\\n",
       "0  6.349922e-13  1.128661e-15  2.002880e-17  1.062139e-18  1.435348e-16   \n",
       "1  4.266974e-14  2.129133e-14  2.094194e-16  3.176394e-16  1.036997e-14   \n",
       "2  4.788514e-07  1.481267e-12  6.625461e-14  8.544924e-14  6.501644e-09   \n",
       "3  2.822602e-08  2.268823e-11  1.366700e-12  2.792973e-04  2.988625e-08   \n",
       "4  7.716369e-14  1.012390e-18  1.372269e-20  7.831374e-23  2.533955e-19   \n",
       "\n",
       "   wow_nn_8      yes_nn_8     zero_nn_8  target  pred  \n",
       "0  1.000000  2.870726e-16  4.077335e-12      28  28.0  \n",
       "1  1.000000  3.887505e-15  6.675937e-12      28  28.0  \n",
       "2  0.999996  2.493418e-12  1.314932e-11      28  28.0  \n",
       "3  0.823557  3.043415e-09  1.209685e-07      28  28.0  \n",
       "4  1.000000  5.542709e-16  2.603689e-16      28  28.0  \n",
       "\n",
       "[5 rows x 251 columns]"
      ]
     },
     "execution_count": 35,
     "metadata": {},
     "output_type": "execute_result"
    }
   ],
   "source": [
    "sub_train.head()"
   ]
  },
  {
   "cell_type": "code",
   "execution_count": 25,
   "metadata": {},
   "outputs": [
    {
     "name": "stderr",
     "output_type": "stream",
     "text": [
      "100%|██████████| 31/31 [00:09<00:00,  2.92it/s]\n"
     ]
    }
   ],
   "source": [
    "df_cols = sub_train.drop(['id'], 1).columns.tolist()\n",
    "for c in tqdm(config.mapping_dict.keys()):\n",
    "    rc = [x for x in df_cols if c in x]\n",
    "    sub_train[c] = sub_train[rc].mean(axis = 1)\n",
    "    \n",
    "sub_train['label'] = sub_train[config.mapping_dict.keys()].idxmax(axis = 1)"
   ]
  },
  {
   "cell_type": "code",
   "execution_count": 23,
   "metadata": {},
   "outputs": [
    {
     "data": {
      "text/plain": [
       "0.96706064716140283"
      ]
     },
     "execution_count": 23,
     "metadata": {},
     "output_type": "execute_result"
    }
   ],
   "source": [
    "accuracy_score(sub_train['target'], sub_train['median_pred'])"
   ]
  },
  {
   "cell_type": "code",
   "execution_count": 26,
   "metadata": {},
   "outputs": [],
   "source": [
    "sub_train['fname'] = sub_train['id'] + '.wav'"
   ]
  },
  {
   "cell_type": "code",
   "execution_count": 27,
   "metadata": {
    "collapsed": true
   },
   "outputs": [],
   "source": [
    "sub_train[['fname', 'label']].to_csv('stacker_8_mean.csv', index = False)"
   ]
  },
  {
   "cell_type": "code",
   "execution_count": 13,
   "metadata": {},
   "outputs": [],
   "source": [
    "\n",
    "def geo_mean(iterable):\n",
    "    a = np.array(iterable)\n",
    "    return a.prod()**(1.0/len(a))"
   ]
  },
  {
   "cell_type": "code",
   "execution_count": 45,
   "metadata": {},
   "outputs": [
    {
     "data": {
      "text/plain": [
       "0.95135606776703263"
      ]
     },
     "execution_count": 45,
     "metadata": {},
     "output_type": "execute_result"
    }
   ],
   "source": [
    "accuracy_score(sub_train[sub_train['id'].isin(splits[4]['val'])]['target'],\n",
    "               sub_train[sub_train['id'].isin(splits[4]['val'])]['pred'].astype(int))"
   ]
  }
 ],
 "metadata": {
  "kernelspec": {
   "display_name": "Python 2",
   "language": "python",
   "name": "python2"
  },
  "language_info": {
   "codemirror_mode": {
    "name": "ipython",
    "version": 2
   },
   "file_extension": ".py",
   "mimetype": "text/x-python",
   "name": "python",
   "nbconvert_exporter": "python",
   "pygments_lexer": "ipython2",
   "version": "2.7.14"
  }
 },
 "nbformat": 4,
 "nbformat_minor": 2
}
